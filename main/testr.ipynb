{
 "cells": [
  {
   "cell_type": "code",
   "execution_count": 73,
   "metadata": {
    "collapsed": true
   },
   "outputs": [
    {
     "name": "stdout",
     "output_type": "stream",
     "text": [
      "'VIRTUAL:1'\n",
      "'--------------------------------------------------'\n",
      "DELAY: 2\n",
      "\"market='B'\"\n",
      "'VIRTUAL:2'\n",
      "'--------------------------------------------------'\n",
      "DELAY: 11\n",
      "\"market='B'\"\n",
      "DELAY: 10\n",
      "\"market='B'\"\n",
      "'VIRTUAL:3'\n",
      "'--------------------------------------------------'\n",
      "DELAY: 3\n",
      "\"market='B'\"\n",
      "DELAY: 1\n",
      "\"market='B'\"\n",
      "DELAY: 10\n",
      "\"market='B'\"\n",
      "DELAY: 14\n",
      "\"market='A'\"\n",
      "DELAY: 9\n",
      "\"market='A'\"\n"
     ]
    }
   ],
   "source": [
    "import random\n",
    "from datetime import datetime, timedelta\n",
    "from pprint import pprint\n",
    "day_length = 15\n",
    "timeslots = list(range(1, day_length))\n",
    "MAX_CALLS = 5\n",
    "seed_base = 0\n",
    "round_number = 2\n",
    "seed_num = seed_base+round_number\n",
    "random.seed(seed_num)\n",
    "virtuals = [1,2,3]\n",
    "markets = ['A','B']\n",
    "for v in virtuals:\n",
    "    pprint(f'VIRTUAL:{v}')\n",
    "    pprint('-'*50)\n",
    "\n",
    "    num_calls = random.randint(1, MAX_CALLS)\n",
    "    calls = random.choices(timeslots, k=num_calls)\n",
    "    for c in calls:\n",
    "        eta = datetime.now() + timedelta(seconds=c)\n",
    "        # random.seed(seed_num)\n",
    "        market = random.choice(markets)\n",
    "        print(f'DELAY: {c}')\n",
    "        # pprint(f\"{eta=}\")\n",
    "        pprint(f'{market=}')"
   ]
  }
 ],
 "metadata": {
  "kernelspec": {
   "display_name": "Python 3",
   "language": "python",
   "name": "python3"
  },
  "language_info": {
   "codemirror_mode": {
    "name": "ipython",
    "version": 2
   },
   "file_extension": ".py",
   "mimetype": "text/x-python",
   "name": "python",
   "nbconvert_exporter": "python",
   "pygments_lexer": "ipython2",
   "version": "2.7.6"
  }
 },
 "nbformat": 4,
 "nbformat_minor": 0
}